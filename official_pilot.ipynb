{
 "cells": [
  {
   "cell_type": "code",
   "execution_count": 23,
   "id": "1a10757f",
   "metadata": {},
   "outputs": [],
   "source": [
    "import time \n",
    "from selenium import webdriver\n",
    "from selenium.webdriver import Chrome\n",
    "from selenium.webdriver.common.by import By\n",
    "from selenium.common.exceptions import NoSuchElementException"
   ]
  },
  {
   "cell_type": "code",
   "execution_count": 65,
   "id": "a8d67c0d",
   "metadata": {},
   "outputs": [
    {
     "name": "stderr",
     "output_type": "stream",
     "text": [
      "C:\\Users\\Usuario\\AppData\\Local\\Temp/ipykernel_8396/678387388.py:2: DeprecationWarning: executable_path has been deprecated, please pass in a Service object\n",
      "  driver = webdriver.Chrome(PATH)\n"
     ]
    }
   ],
   "source": [
    "PATH = \"C:\\Program Files (x86)\\chromedriver.exe\"\n",
    "driver = webdriver.Chrome(PATH)\n",
    "\n",
    "#Making the URLs for the get function\n",
    "#tweet_fields = \"tweet.fields=created_at,source,text,public_metrics,author_id\"\n",
    "#query = \"%40solana%20and%20ido%20-is%3aretweet\"\n",
    "#url1 = \"https://twitter.com/search?query={}&{}\".format(query, tweet_fields)\n",
    "\n",
    "## Or search by Username\n",
    "url2 = 'https://twitter.com/google'\n",
    "driver.get(url2)\n",
    "time.sleep(10)"
   ]
  },
  {
   "cell_type": "code",
   "execution_count": 69,
   "id": "1d2d7063",
   "metadata": {},
   "outputs": [
    {
     "name": "stderr",
     "output_type": "stream",
     "text": [
      "C:\\Users\\Usuario\\AppData\\Local\\Temp/ipykernel_8396/656036678.py:2: DeprecationWarning: find_elements_by_* commands are deprecated. Please use find_elements() instead\n",
      "  cards = driver.find_elements_by_css_selector(\"article\")\n"
     ]
    },
    {
     "name": "stdout",
     "output_type": "stream",
     "text": [
      "Tweet fijado\n",
      "Google\n",
      "@Google\n",
      "·\n",
      "9 dic. 2021\n",
      "This year the world searched “how to heal” more than ever. Whether people are honoring a loved one or reuniting with family, they’re finding ways to come back stronger than before. Explore more trends from the year at http://yearinsearch.google\n",
      "1 mil\n",
      "2,8 mil\n",
      "7,1 mil\n",
      "Google\n",
      "@Google\n",
      "·\n",
      "40min\n",
      "What’s a 6-letter word for a thing that will help you solve 5-letter words? \n",
      "     \n",
      "683\n",
      "224\n",
      "1,2 mil\n"
     ]
    }
   ],
   "source": [
    "#cards = driver.find_elements('//div[@data-testid=\"tweet\"]')\n",
    "cards = driver.find_elements_by_css_selector(\"article\")\n",
    "#cards = driver.find_elements_by_xpath('//div[@class=\"css-1dbjc4n r-18u37iz\"]')\n",
    "#print(cards)\n",
    "for card in cards:\n",
    "    print(card.text)\n",
    "    #print(type(card.text))\n",
    "    #all cards here are formated as single str"
   ]
  },
  {
   "cell_type": "code",
   "execution_count": 49,
   "id": "003edf46",
   "metadata": {},
   "outputs": [
    {
     "name": "stdout",
     "output_type": "stream",
     "text": [
      "@GoogleHealth\n",
      "---------------\n",
      "We’re applying our technology and expertise along with \n",
      "@pacbio\n",
      " to the field of #genomics to help us better understand, diagnose, & treat diseases. We've compiled our recent research and highlighted industry developments that will help foster improvements:\n",
      "---------------\n",
      "2022-01-13T21:22:40.000Z\n",
      "---------------\n",
      "blog.google\n",
      "Advancing genomics to better understand and treat disease\n",
      "---------------\n",
      "10\n",
      "---------------\n",
      "42\n",
      "---------------\n",
      "222\n"
     ]
    }
   ],
   "source": [
    "#Selecting first card to format it\n",
    "card = cards[1]\n",
    "#print(card)\n",
    "#Copy paste the FULL X-Path and run since article with: \"./\"\n",
    "text = card.find_element_by_xpath('./div/div/div/div[2]/div[2]/div[2]/div[1]').text\n",
    "responding = card.find_element_by_xpath('./div/div/div/div[2]/div[2]/div[2]/div[2]').text\n",
    "handle = card.find_element_by_xpath('.//*[contains(text(),\"@\")]').text\n",
    "date = card.find_element_by_xpath('.//time').get_attribute('datetime')\n",
    "replies = card.find_element_by_xpath('.//div[@data-testid=\"reply\"]').text\n",
    "retweets = card.find_element_by_xpath('.//div[@data-testid=\"retweet\"]').text\n",
    "likes = card.find_element_by_xpath('.//div[@data-testid=\"like\"]').text\n",
    "\n",
    "print(handle)\n",
    "print(\"---------------\")\n",
    "print(text)\n",
    "print(\"---------------\")\n",
    "print(date)\n",
    "print(\"---------------\")\n",
    "print(responding)\n",
    "print(\"---------------\")\n",
    "print(replies)\n",
    "print(\"---------------\")\n",
    "print(retweets)\n",
    "print(\"---------------\")\n",
    "print(likes)"
   ]
  },
  {
   "cell_type": "code",
   "execution_count": 67,
   "id": "4c4ad366",
   "metadata": {},
   "outputs": [
    {
     "name": "stdout",
     "output_type": "stream",
     "text": [
      "Not found!\n",
      "Not found!\n"
     ]
    }
   ],
   "source": [
    "for card in cards: \n",
    "    #GET FULL XPATH AND FOLLOW THROUGH AFTER TAG \"ARTICLE\"\n",
    "    text = card.find_element_by_xpath('./div/div/div/div[2]/div[2]/div[2]/div[1]').text\n",
    "    handle = card.find_element_by_xpath('.//*[contains(text(),\"@\")]').text\n",
    "    date = card.find_element_by_xpath('.//time').get_attribute('datetime')\n",
    "\n",
    "    fullstring = text\n",
    "    substring_list = [\"#NFT\", \"#nft\"]\n",
    "\n",
    "    if any(substring in fullstring for substring in substring_list):\n",
    "        #print(\"Found!\")\n",
    "        print(handle)\n",
    "        print(\"---------------\")\n",
    "        print(text)\n",
    "    else:\n",
    "        print(\"Not found!\")"
   ]
  },
  {
   "cell_type": "code",
   "execution_count": 69,
   "id": "9f59c71c",
   "metadata": {},
   "outputs": [],
   "source": [
    "#Create a function: \n",
    "def get_tweet_data(card):\n",
    "    #Elements\n",
    "    #GET FULL XPATH AND FOLLOW THROUGH AFTER TAG \"ARTICLE\"\n",
    "    text = card.find_element_by_xpath('./div/div/div/div[2]/div[2]/div[2]/div[1]').text\n",
    "    responding = card.find_element_by_xpath('./div/div/div/div[2]/div[2]/div[2]/div[2]').text\n",
    "    handle = card.find_element_by_xpath('.//*[contains(text(),\"@\")]').text\n",
    "    replies = card.find_element_by_xpath('.//div[@data-testid=\"reply\"]').text\n",
    "    retweets = card.find_element_by_xpath('.//div[@data-testid=\"retweet\"]').text\n",
    "    likes = card.find_element_by_xpath('.//div[@data-testid=\"like\"]').text\n",
    "    full_txt = text+responding\n",
    "    \n",
    "    #Sponsored tweets have no date\n",
    "    try: \n",
    "        date = card.find_element_by_xpath('.//time').get_attribute('datetime')\n",
    "    except NoSuchElementException: \n",
    "        return\n",
    "    \n",
    "    #Create a tuple for the tweet\n",
    "    tweet = (handle, full_txt, date)\n",
    "    \n",
    "    return tweet"
   ]
  },
  {
   "cell_type": "code",
   "execution_count": 70,
   "id": "6c98a03d",
   "metadata": {},
   "outputs": [
    {
     "data": {
      "text/plain": [
       "('@iSafePal',\n",
       " \"'s 1st \\n@iSafePal\\n Giftbox Learn & Earn Event\\n\\nIntroducing \\n@yokaiswap\\n 1st LaunchPad Project \\n@Daruma_DAO\\n \\n\\nMore info on \\n@iSafePal\\n Giftbox https://blog.safepal.io/introducing-safepal-giftbox/…\\n\\nDownload \\n@iSafePal\\n App Today \\nhttps://safepal.io/download\",\n",
       " '2022-01-13T00:40:46.000Z')"
      ]
     },
     "execution_count": 70,
     "metadata": {},
     "output_type": "execute_result"
    }
   ],
   "source": [
    "#First try\n",
    "get_tweet_data(card)"
   ]
  },
  {
   "cell_type": "code",
   "execution_count": 72,
   "id": "28ef7b88",
   "metadata": {},
   "outputs": [],
   "source": [
    "#All data\n",
    "tweet_data = []\n",
    "for card in cards: \n",
    "    data = get_tweet_data(card) \n",
    "    tweet_data.append(data)"
   ]
  },
  {
   "cell_type": "code",
   "execution_count": 73,
   "id": "f3fd1356",
   "metadata": {},
   "outputs": [
    {
     "data": {
      "text/plain": [
       "[('@IDOhunteer',\n",
       "  \"WUMWE4N2SafePal - Crypto Wallet\\n@iSafePal\\n · 19h\\n's 1st @iSafePal Giftbox Learn & Earn Event\\n\\nIntroducing @yokaiswap 1st LaunchPad Project @Daruma_DAO \\n\\nMore info on @iSafePal Giftbox https://blog.safepal.io/introducing-safepal-giftbox/…\\n\\nDownload @iSafePal App Today \\nhttps://safepal.io/download\",\n",
       "  '2022-01-13T01:42:55.000Z'),\n",
       " ('@iSafePal',\n",
       "  \"'s 1st \\n@iSafePal\\n Giftbox Learn & Earn Event\\n\\nIntroducing \\n@yokaiswap\\n 1st LaunchPad Project \\n@Daruma_DAO\\n \\n\\nMore info on \\n@iSafePal\\n Giftbox https://blog.safepal.io/introducing-safepal-giftbox/…\\n\\nDownload \\n@iSafePal\\n App Today \\nhttps://safepal.io/download\",\n",
       "  '2022-01-13T00:40:46.000Z')]"
      ]
     },
     "execution_count": 73,
     "metadata": {},
     "output_type": "execute_result"
    }
   ],
   "source": [
    "tweet_data"
   ]
  },
  {
   "cell_type": "code",
   "execution_count": null,
   "id": "df96a897",
   "metadata": {},
   "outputs": [],
   "source": [
    "#Scrolling down the page\n",
    "#Need's some JS\n",
    "driver.execute_script('window.scrollTo(0, document.body.scrollHeight);')"
   ]
  },
  {
   "cell_type": "code",
   "execution_count": 2,
   "id": "f4cfc612",
   "metadata": {},
   "outputs": [
    {
     "name": "stderr",
     "output_type": "stream",
     "text": [
      "C:\\Users\\Usuario\\AppData\\Local\\Temp/ipykernel_8396/1680588977.py:33: DeprecationWarning: executable_path has been deprecated, please pass in a Service object\n",
      "  driver = webdriver.Chrome(PATH)\n",
      "C:\\Users\\Usuario\\AppData\\Local\\Temp/ipykernel_8396/1680588977.py:54: DeprecationWarning: find_elements_by_* commands are deprecated. Please use find_elements() instead\n",
      "  cards = driver.find_elements_by_css_selector(\"article\")\n"
     ]
    }
   ],
   "source": [
    "\"\"\"Make Everything Happend In Sync\"\"\"\n",
    "#Imports\n",
    "import time \n",
    "from selenium import webdriver\n",
    "from selenium.webdriver import Chrome\n",
    "from selenium.webdriver.common.by import By\n",
    "from selenium.common.exceptions import NoSuchElementException\n",
    "\n",
    "#Defining functions\n",
    "def get_tweet_data(card):\n",
    "    #Elements\n",
    "    #GET FULL XPATH AND FOLLOW THROUGH AFTER TAG \"ARTICLE\"\n",
    "    text = card.find_element_by_xpath('./div/div/div/div[2]/div[2]/div[2]/div[1]').text\n",
    "    responding = card.find_element_by_xpath('./div/div/div/div[2]/div[2]/div[2]/div[2]').text\n",
    "    handle = card.find_element_by_xpath('.//*[contains(text(),\"@\")]').text\n",
    "    replies = card.find_element_by_xpath('.//div[@data-testid=\"reply\"]').text\n",
    "    retweets = card.find_element_by_xpath('.//div[@data-testid=\"retweet\"]').text\n",
    "    likes = card.find_element_by_xpath('.//div[@data-testid=\"like\"]').text\n",
    "    full_txt = text+responding\n",
    "    \n",
    "    #Sponsored tweets have no date\n",
    "    try: \n",
    "        date = card.find_element_by_xpath('.//time').get_attribute('datetime')\n",
    "    except NoSuchElementException: \n",
    "        return\n",
    "    \n",
    "    #Create a tuple for the tweet\n",
    "    tweet = (handle, full_txt, date)\n",
    "    \n",
    "    return tweet\n",
    "\n",
    "#Creating an instance of a webdriver\n",
    "PATH = \"C:\\Program Files (x86)\\chromedriver.exe\"\n",
    "driver = webdriver.Chrome(PATH)\n",
    "\n",
    "#Making the URLs for the get function\n",
    "#tweet_fields = \"tweet.fields=created_at,source,text,public_metrics,author_id\"\n",
    "#query = \"%40solana%20and%20ido%20-is%3aretweet\"\n",
    "#url1 = \"https://twitter.com/search?query={}&{}\".format(query, tweet_fields)\n",
    "\n",
    "## Or search by Username\n",
    "url2 = 'https://twitter.com/IDOhunteer'\n",
    "driver.get(url2)\n",
    "time.sleep(10)\n",
    "\n",
    "#Create tweet ID's for already scraped tweets\n",
    "tweet_ids = set()\n",
    "tweet_data = []\n",
    "\n",
    "#Check if I'm at the end of the page\n",
    "last_pos = driver.execute_script('return window.pageYOFFset;')\n",
    "\n",
    "#Looping through tweets\n",
    "while True:\n",
    "    cards = driver.find_elements_by_css_selector(\"article\")\n",
    "    for card in cards[-15:]: \n",
    "        tweet = get_tweet_data(card) \n",
    "        \n",
    "        tweet_id = ''.join(tweet)\n",
    "        if tweet_id not in tweet_ids:\n",
    "            tweet_ids.add(tweet_id)\n",
    "            tweet_data.append(tweet)\n",
    "            \n",
    "    #Finally adding pagination\n",
    "    driver.execute_script('window.scrollTo(0, document.body.scrollHeight);')\n",
    "    time.sleep(1)\n",
    "\n",
    "    #Current position and comparison to check if I'm at the bottom\n",
    "    curr_pos = driver.execute_script('return window.pageYOFFset;')\n",
    "    if last_pos == curr_pos: \n",
    "        break"
   ]
  },
  {
   "cell_type": "code",
   "execution_count": 3,
   "id": "f1220d7d",
   "metadata": {},
   "outputs": [
    {
     "data": {
      "text/plain": [
       "[('@IDOhunteer',\n",
       "  \"WUMWE4N2SafePal - Crypto Wallet\\n@iSafePal\\n · 12 ene.\\n's 1st @iSafePal Giftbox Learn & Earn Event\\n\\nIntroducing @yokaiswap 1st LaunchPad Project @Daruma_DAO \\n\\nMore info on @iSafePal Giftbox https://blog.safepal.io/introducing-safepal-giftbox/…\\n\\nDownload @iSafePal App Today \\nhttps://safepal.io/download\",\n",
       "  '2022-01-13T01:42:55.000Z'),\n",
       " ('@iSafePal',\n",
       "  \"'s 1st \\n@iSafePal\\n Giftbox Learn & Earn Event\\n\\nIntroducing \\n@yokaiswap\\n 1st LaunchPad Project \\n@Daruma_DAO\\n \\n\\nMore info on \\n@iSafePal\\n Giftbox https://blog.safepal.io/introducing-safepal-giftbox/…\\n\\nDownload \\n@iSafePal\\n App Today \\nhttps://safepal.io/download\",\n",
       "  '2022-01-13T00:40:46.000Z'),\n",
       " ('@DefiLlama',\n",
       "  'Now tracking \\n@SentreProtocol\\n on \\n@solana\\n \\n\\nAn on-chain AMM powering the evolution of DeFi.\\n\\nhttps://defillama.com/protocol/sentre',\n",
       "  '2022-01-05T23:49:19.000Z')]"
      ]
     },
     "execution_count": 3,
     "metadata": {},
     "output_type": "execute_result"
    }
   ],
   "source": [
    "tweet_data"
   ]
  },
  {
   "cell_type": "code",
   "execution_count": 71,
   "id": "7af8f5ba",
   "metadata": {},
   "outputs": [
    {
     "name": "stderr",
     "output_type": "stream",
     "text": [
      "C:\\Users\\Usuario\\AppData\\Local\\Temp/ipykernel_8396/3406626358.py:35: DeprecationWarning: executable_path has been deprecated, please pass in a Service object\n",
      "  driver = webdriver.Chrome(PATH)\n",
      "C:\\Users\\Usuario\\AppData\\Local\\Temp/ipykernel_8396/3406626358.py:61: DeprecationWarning: find_elements_by_* commands are deprecated. Please use find_elements() instead\n",
      "  cards = driver.find_elements_by_css_selector(\"article\")\n"
     ]
    },
    {
     "name": "stdout",
     "output_type": "stream",
     "text": [
      "Atempting to scroll again.\n",
      "Atempting to scroll again.\n",
      "Atempting to scroll again.\n",
      "10\n"
     ]
    }
   ],
   "source": [
    "\"\"\"Just in case the scrolling doesn't work / takes time\"\"\"\n",
    "\"\"\"Make Everything Happend In Sync\"\"\"\n",
    "#Imports\n",
    "import time \n",
    "from selenium import webdriver\n",
    "from selenium.webdriver import Chrome\n",
    "from selenium.webdriver.common.by import By\n",
    "from selenium.common.exceptions import NoSuchElementException\n",
    "\n",
    "#Defining functions\n",
    "def get_tweet_data(card):\n",
    "    #Elements\n",
    "    #GET FULL XPATH AND FOLLOW THROUGH AFTER TAG \"ARTICLE\"\n",
    "    text = card.find_element_by_xpath('./div/div/div/div[2]/div[2]/div[2]/div[1]').text\n",
    "    responding = card.find_element_by_xpath('./div/div/div/div[2]/div[2]/div[2]/div[2]').text\n",
    "    handle = card.find_element_by_xpath('.//*[contains(text(),\"@\")]').text\n",
    "    replies = card.find_element_by_xpath('.//div[@data-testid=\"reply\"]').text\n",
    "    retweets = card.find_element_by_xpath('.//div[@data-testid=\"retweet\"]').text\n",
    "    likes = card.find_element_by_xpath('.//div[@data-testid=\"like\"]').text\n",
    "    full_txt = text+responding\n",
    "    \n",
    "    #Sponsored tweets have no date\n",
    "    try: \n",
    "        date = card.find_element_by_xpath('.//time').get_attribute('datetime')\n",
    "    except NoSuchElementException: \n",
    "        return\n",
    "    \n",
    "    #Create a tuple for the tweet\n",
    "    tweet = (handle, full_txt, date)\n",
    "    \n",
    "    return tweet\n",
    "\n",
    "#Creating an instance of a webdriver\n",
    "PATH = \"C:\\Program Files (x86)\\chromedriver.exe\"\n",
    "driver = webdriver.Chrome(PATH)\n",
    "\n",
    "#Making the URLs for the get function\n",
    "#tweet_fields = \"tweet.fields=created_at,source,text,public_metrics,author_id\"\n",
    "#query = \"%40solana%20and%20ido%20-is%3aretweet\"\n",
    "#url1 = \"https://twitter.com/search?query={}&{}\".format(query, tweet_fields)\n",
    "url1 = \"https://twitter.com/search?q=%23ido%20AND%20%23solana&src=typed_query\"\n",
    "url3 = \"https://twitter.com/search?q=%23ido%20AND%20%23solana&src=typed_query&f=live\"\n",
    "## Or search by Username\n",
    "url2 = 'https://twitter.com/google'\n",
    "driver.get(url3)\n",
    "time.sleep(5)\n",
    "\n",
    "#Create tweet ID's for already scraped tweets\n",
    "tweet_ids = set()\n",
    "tweet_data = []\n",
    "\n",
    "#Check if I'm at the end of the page\n",
    "last_pos = driver.execute_script(\"return document.body.scrollHeight\")\n",
    "#print(f'last post: {last_pos}')\n",
    "\n",
    "#Set scrolilng\n",
    "scrolling = True\n",
    "\n",
    "#Looping through tweets\n",
    "while scrolling:\n",
    "    cards = driver.find_elements_by_css_selector(\"article\")\n",
    "    for card in cards[-15:]: \n",
    "        tweet = get_tweet_data(card)\n",
    "        if tweet:\n",
    "            tweet_id = ''.join(tweet)\n",
    "            if tweet_id not in tweet_ids:\n",
    "                tweet_ids.add(tweet_id)\n",
    "                tweet_data.append(tweet)\n",
    "                \n",
    "                \n",
    "                \n",
    "    scrolling_attempt = 0\n",
    "    while True:\n",
    "        #Finally adding pagination\n",
    "        driver.execute_script('window.scrollTo(0, document.body.scrollHeight);')\n",
    "        time.sleep(3)\n",
    "\n",
    "        #Current position and comparison to check if I'm at the bottom\n",
    "        curr_pos = driver.execute_script(\"return document.body.scrollHeight\")\n",
    "        \n",
    "        if last_pos == curr_pos: \n",
    "            scrolling_attempt +=1\n",
    "            \n",
    "            #End of scroll region\n",
    "            if scrolling_attempt >= 3: \n",
    "                scrolling = False\n",
    "                break\n",
    "            else:\n",
    "                print(\"Atempting to scroll again.\")\n",
    "                time.sleep(5)\n",
    "        else:\n",
    "            last_pos = curr_pos\n",
    "            break\n",
    "                \n",
    "print(len(tweet_data))\n",
    "driver.quit()"
   ]
  },
  {
   "cell_type": "code",
   "execution_count": 61,
   "id": "8cfd80bc",
   "metadata": {},
   "outputs": [
    {
     "data": {
      "text/plain": [
       "[('@CoreStarter',\n",
       "  ' Round 1 of \\n@esports_clg\\n is halfway through! If you received a guaranteed allocation make sure to secure it before we move to FCFS!\\n\\n#IDO $CSTR #Solana #GLC',\n",
       "  '2022-01-14T14:02:28.000Z'),\n",
       " ('@Solana_Space',\n",
       "  '@Hubbleprotocol\\n will launch its upcoming #IDO on \\n@Solrazr_App\\nWhitelist registration will open on January 18, 2022 at 2PM UTC\\n\\n#HubbleProtocol - Supercharge your Liquidity on #Solana. \\n\\nINFO:\\nhttps://medium.com/@SolRazr_App/introducing-hubble-upcoming-ido-on-solrazr-68c73fdc33f0…\\n#SolanaSpacemedium.com\\nIntroducing Hubble: Upcoming IDO on SolRazr\\nThe IDO Whitelist for Hubble opens on Jan 18, 2022 at 2 PM UTC on SolRazr. Learn more about the next generation of DeFi services on Solana.',\n",
       "  '2022-01-14T13:55:00.000Z'),\n",
       " ('@babalalue',\n",
       "  'En respuesta a \\n@expert_kripto\\n @Metamall_io\\n y \\n@WLICAPITALProje metaverse dunyasinda cigir acacaga benziyor.  #metamall #solana #Metaverse #ido',\n",
       "  '2022-01-14T13:11:31.000Z'),\n",
       " ('@tofu7tofu',\n",
       "  'Solaniumのホワイトリスト！！\\n\\n1月14日23時まで\\n\\n#仮想通貨  #IDO #ホワイトリスト #Solana $SOL $SLIM $delfisolanium.io\\nSolanium\\nSolanium is the go-to platform for the Solana blockchain. Invest in the hottest Solana projects.',\n",
       "  '2022-01-14T13:07:51.000Z'),\n",
       " ('@seannesohn',\n",
       "  'Open DM!\\n\\nI’m a NFT and Crypto promotor also admin of https://twitter.com/amangkings & https://twitter.com/forestan12! Send me a dm for promotion! Let us promote your NFT & Crypto. \\n\\n#NFT #NFTCommunity #NFTcollection #NFTGame #Blockchain #DeFi #IDO #BSC #ETH #Solana #shill #PlayToEarn',\n",
       "  '2022-01-14T11:45:33.000Z'),\n",
       " ('@OfficialAnskid',\n",
       "  'Farming and LP pool now available on @MatriETF app.\\nFollow $SEI to track all great #IDO projects on \\n@solanium_io\\n \\n\\n#MatrixETF #Solana #DAOMatrixETF\\n@MatrixETF\\n · 11h\\nThe first #Index on @solanium_io( $SEI )has opened #farming & #LP pool on MatrixETF!\\nFollow $SEI you can track all great #IDO projects on @solanium_io \\nGo ahead with MatrixETFhttps://app.matrixetf.finance/#/details_Farms\\n#solana',\n",
       "  '2022-01-14T10:01:06.000Z'),\n",
       " ('@ShrnAmir',\n",
       "  'Free FCON$ air drop is here \\nhttps://t.me/SpaceFalconNewRoundBot?start=81852188…\\n@SpaceFalconIO\\n \\n\\n#IDO #Airdrop #Solana #NFTst.me\\nSpace Falcon\\nYou can contact @SpaceFalconNewRoundBot right away.',\n",
       "  '2022-01-14T08:09:44.000Z'),\n",
       " ('@CoreStarter',\n",
       "  'The \\n@CheesusDefi\\n FCFS is now closed!\\n\\nThank you, everyone, for participating in the #Launch, and congrats to those who have secured their $CHEESUS!\\n\\n#Solana #Cheesus #IDO #Launchpad',\n",
       "  '2022-01-14T07:00:25.000Z'),\n",
       " ('@NicoleAndiee',\n",
       "  \"Registered and KYC users #Cheesus is blowing up!! \\n\\nDon't miss out and grab yourselves one right now go ahead and visit  http://sit.corestarter.com before it's too late \\n\\n#IDO #Launchpad #Cheesus #SolanaCoreStarter\\n@CoreStarter\\n · 19h\\n FCFS for #Cheesus is selling fast, get yours before it is all gone!\\n\\n#IDO #Cheesus #Solana twitter.com/CoreStarter/st…\",\n",
       "  '2022-01-14T05:48:11.000Z'),\n",
       " ('@thexastronaut',\n",
       "  'HIGHLIGHTS OF THE FIRST HALF OF JANUARY\\n\\nThe first 2 weeks of 2022 have seen a lot of #IDOs on \\n@solana\\n-based launchpads. \\nWhich project is the most promising one? \\n\\n#AstronautInsights #Solana $SOL #SolanaNFTs #IDO',\n",
       "  '2022-01-14T05:04:26.000Z'),\n",
       " ('@MatrixETF',\n",
       "  'The first #Index on \\n@solanium_io\\n( $SEI )has opened #farming & #LP pool on MatrixETF!\\nFollow $SEI you can track all great #IDO projects on \\n@solanium_io\\n \\nGo ahead with MatrixETFhttps://app.matrixetf.finance/#/details_Farms\\n#solana',\n",
       "  '2022-01-14T04:27:03.000Z')]"
      ]
     },
     "execution_count": 61,
     "metadata": {},
     "output_type": "execute_result"
    }
   ],
   "source": [
    "tweet_data"
   ]
  },
  {
   "cell_type": "code",
   "execution_count": null,
   "id": "de0a85ef",
   "metadata": {},
   "outputs": [],
   "source": []
  },
  {
   "cell_type": "code",
   "execution_count": null,
   "id": "946cad2c",
   "metadata": {},
   "outputs": [],
   "source": []
  }
 ],
 "metadata": {
  "kernelspec": {
   "display_name": "Python 3 (ipykernel)",
   "language": "python",
   "name": "python3"
  },
  "language_info": {
   "codemirror_mode": {
    "name": "ipython",
    "version": 3
   },
   "file_extension": ".py",
   "mimetype": "text/x-python",
   "name": "python",
   "nbconvert_exporter": "python",
   "pygments_lexer": "ipython3",
   "version": "3.9.7"
  }
 },
 "nbformat": 4,
 "nbformat_minor": 5
}
